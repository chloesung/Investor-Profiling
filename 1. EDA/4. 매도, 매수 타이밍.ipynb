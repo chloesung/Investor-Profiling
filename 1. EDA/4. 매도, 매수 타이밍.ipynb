{
 "cells": [
  {
   "cell_type": "code",
   "execution_count": 1,
   "metadata": {
    "id": "eUGaWhbqiqFi"
   },
   "outputs": [],
   "source": [
    "import numpy as np\n",
    "import pandas as pd\n",
    "import plotly.express as px\n",
    "import plotly.offline as pyo\n",
    "import plotly.graph_objs as go\n",
    "import seaborn as sns\n",
    "import matplotlib.pyplot as plt\n",
    "import plotly.io as pio\n",
    "pio.renderers.default = \"notebook_connected\"\n",
    "import warnings\n",
    "warnings.filterwarnings(\"ignore\")\n",
    "\n",
    "from pyecharts.charts import Bar, Grid, Line, Liquid, Page, Pie, Timeline\n",
    "from pyecharts import options as opts\n",
    "\n",
    "\n",
    "pd.options.display.float_format = '{:.2f}'.format\n",
    "col = px.colors.qualitative.Pastel"
   ]
  },
  {
   "cell_type": "code",
   "execution_count": 4,
   "metadata": {
    "id": "MhHuAYV9j_dT"
   },
   "outputs": [],
   "source": [
    "act = pd.read_csv('2_act_info.csv')\n",
    "cus = pd.read_csv('2_cus_info.csv')\n",
    "iem = pd.read_csv('2_iem_info.csv')\n",
    "trd_kr =  pd.read_csv('2_trd_kr.csv')\n",
    "trd_oss =  pd.read_csv('2_trd_oss.csv')\n",
    "cus = cus.astype({'tco_cus_grd_cd' : 'str'})\n",
    "trd_kr['orr_dt'] = pd.to_datetime(trd_kr['orr_dt'].astype(str), format='%Y%m%d')\n",
    "trd_oss['orr_dt'] = pd.to_datetime(trd_oss['orr_dt'].astype(str), format='%Y%m%d')\n",
    "cus_info = pd.read_csv('cus_info.csv')\n",
    "kr = pd.read_csv('kr.csv')"
   ]
  },
  {
   "cell_type": "code",
   "execution_count": 9,
   "metadata": {},
   "outputs": [],
   "source": [
    "trdkr = pd.read_csv('trdkr.csv')\n",
    "act_cus = pd.read_csv('act_cus.csv')"
   ]
  },
  {
   "cell_type": "markdown",
   "metadata": {},
   "source": [
    "## 1.4 Trading Data - When?"
   ]
  },
  {
   "cell_type": "markdown",
   "metadata": {},
   "source": [
    "### 1.4.1 Korea Trading Data"
   ]
  },
  {
   "cell_type": "code",
   "execution_count": 10,
   "metadata": {
    "scrolled": true
   },
   "outputs": [],
   "source": [
    "df = kr\n",
    "df = df.sort_values(by=[\"act_id\", \"iem_cd\",\"orr_dt\",\"orr_ord\"], ascending=[True, True,True,True]).reset_index()\n",
    "df = df[['act_id','iem_cd','buysell','price','qty','amount','orr_dt','orr_ord']]\n",
    "\n",
    "n = df.groupby(by=['act_id','iem_cd'], as_index=False).count()['orr_dt'].tolist()\n",
    "lowsell_col,highsell_col,lowbuy_col,highbuy_col,act_col,iem_col = [],[],[],[],[],[]\n",
    "r=0\n",
    "price = df['price'].tolist()\n",
    "buysell = df['buysell'].tolist()\n",
    "act = df['act_id'].tolist()\n",
    "iem = df['iem_cd'].tolist()\n",
    "\n",
    "for k in range(311922):\n",
    "    risk,lowsell,highsell,lowbuy,highbuy = 0,0,0,0,0\n",
    "    for i in range(n[k]-1):\n",
    "        if price[i]>price[i+1] and buysell[i+1] == 1:\n",
    "            lowsell = lowsell + 1\n",
    "        elif price[i]<=price[i+1] and buysell[i+1] == 1:\n",
    "            highsell = highsell + 1\n",
    "        elif price[i]>price[i+1] and buysell[i+1] == 2:\n",
    "            lowbuy = lowbuy + 1\n",
    "        elif price[i]<=price[i+1] and buysell[i+1] == 2:\n",
    "            highbuy = highbuy + 1\n",
    "    lowsell_col.append(lowsell)\n",
    "    highsell_col.append(highsell)\n",
    "    lowbuy_col.append(lowbuy)\n",
    "    highbuy_col.append(highbuy)\n",
    "    \n",
    "trdkr = trdkr.sort_values(by=[\"act_id\", \"iem_cd\"], ascending=[True, True])\n",
    "data = {'act_id': trdkr['act_id'], 'iem_cd': trdkr['iem_cd'], 'lowsell_kr': lowsell_col,\n",
    "       'highsell_kr': highsell_col, 'lowbuy_kr': lowbuy_col, 'highbuy_kr': highbuy_col}\n",
    "data = pd.DataFrame(data)\n",
    "trdkr = pd.merge(trdkr, data, on=['act_id','iem_cd'])\n",
    "\n",
    "trdkr['a'] = trdkr['total_num_kr']\n",
    "trdkr['a'] = trdkr['a'].replace({1:2})\n",
    "trdkr['lowsell_kr'] = trdkr['lowsell_kr']/(trdkr['a']-1)\n",
    "trdkr['highsell_kr'] = trdkr['highsell_kr']/(trdkr['a']-1)\n",
    "trdkr['lowbuy_kr'] = trdkr['lowbuy_kr']/(trdkr['a']-1)\n",
    "trdkr['highbuy_kr'] = trdkr['highbuy_kr']/(trdkr['a']-1)\n",
    "trdkr = trdkr.drop('a',axis=1)"
   ]
  },
  {
   "cell_type": "markdown",
   "metadata": {},
   "source": [
    "거래 성향을 파악하기 위해 직전 거래에 비해 가격이 올랐는지 내렸는지 여부와 함께 매도, 매수 여부를 구합니다.     \n",
    "각각의 비중을 구해 다음과 같은 네가지 변수를 추가해주었습니다.\n",
    "\n",
    "+ lowsell_kr: 주가 떨어졌을 때 매도\n",
    "+ highsell_kr: 주가 올랐을 때 매도\n",
    "+ lowbuy_kr: 주가 떨어졌을 때 매수\n",
    "+ highbuy_kr: 주가 올랐을 때 매수"
   ]
  },
  {
   "cell_type": "code",
   "execution_count": 11,
   "metadata": {},
   "outputs": [],
   "source": [
    "#고객별 평균값 구해주기\n",
    "a = ['lowsell_kr','highsell_kr','lowbuy_kr','highbuy_kr']\n",
    "data = trdkr.groupby(pd.merge(act_cus, trdkr, on=['act_id'])['cus_id']).mean()[a]\n",
    "cus_info = pd.merge(data, cus_info, on=['cus_id'],how = 'outer')\n",
    "\n",
    "cus_info[a]=cus_info[a]*100"
   ]
  },
  {
   "cell_type": "code",
   "execution_count": 12,
   "metadata": {},
   "outputs": [
    {
     "data": {
      "text/plain": [
       "[0.7142855365721484, 1.992319977694955, 67.20883014474258, 20.511044856572894]"
      ]
     },
     "execution_count": 12,
     "metadata": {},
     "output_type": "execute_result"
    }
   ],
   "source": [
    "a = ['lowsell_kr','highsell_kr','lowbuy_kr','highbuy_kr']\n",
    "list(cus_info.mean()[a])\n"
   ]
  },
  {
   "cell_type": "code",
   "execution_count": 13,
   "metadata": {},
   "outputs": [
    {
     "data": {
      "text/html": [
       "\n",
       "<script>\n",
       "    require.config({\n",
       "        paths: {\n",
       "            'echarts':'https://assets.pyecharts.org/assets/echarts.min'\n",
       "        }\n",
       "    });\n",
       "</script>\n",
       "\n",
       "        <div id=\"9b6119512ffe41f6b84ade8b7bb5f9ce\" style=\"width:900px; height:500px;\"></div>\n",
       "\n",
       "<script>\n",
       "        require(['echarts'], function(echarts) {\n",
       "                var chart_9b6119512ffe41f6b84ade8b7bb5f9ce = echarts.init(\n",
       "                    document.getElementById('9b6119512ffe41f6b84ade8b7bb5f9ce'), 'white', {renderer: 'canvas'});\n",
       "                var option_9b6119512ffe41f6b84ade8b7bb5f9ce = {\n",
       "    \"animation\": true,\n",
       "    \"animationThreshold\": 2000,\n",
       "    \"animationDuration\": 1000,\n",
       "    \"animationEasing\": \"cubicOut\",\n",
       "    \"animationDelay\": 0,\n",
       "    \"animationDurationUpdate\": 300,\n",
       "    \"animationEasingUpdate\": \"cubicOut\",\n",
       "    \"animationDelayUpdate\": 0,\n",
       "    \"color\": [\n",
       "        \"#fc6472\",\n",
       "        \"#f4b2a6\",\n",
       "        \"#eccdb3\",\n",
       "        \"#bcefd0\",\n",
       "        \"#a1e8e4\",\n",
       "        \"#23c8b2\",\n",
       "        \"#7f5a7c\"\n",
       "    ],\n",
       "    \"series\": [\n",
       "        {\n",
       "            \"type\": \"pie\",\n",
       "            \"clockwise\": true,\n",
       "            \"data\": [\n",
       "                {\n",
       "                    \"name\": \"lowsell_kr\",\n",
       "                    \"value\": 0.7142855365721484\n",
       "                },\n",
       "                {\n",
       "                    \"name\": \"highsell_kr\",\n",
       "                    \"value\": 1.992319977694955\n",
       "                },\n",
       "                {\n",
       "                    \"name\": \"lowbuy_kr\",\n",
       "                    \"value\": 67.20883014474258\n",
       "                },\n",
       "                {\n",
       "                    \"name\": \"highbuy_kr\",\n",
       "                    \"value\": 20.511044856572894\n",
       "                }\n",
       "            ],\n",
       "            \"radius\": [\n",
       "                60,\n",
       "                120\n",
       "            ],\n",
       "            \"center\": [\n",
       "                \"50%\",\n",
       "                \"50%\"\n",
       "            ],\n",
       "            \"label\": {\n",
       "                \"show\": true,\n",
       "                \"position\": \"top\",\n",
       "                \"color\": [\n",
       "                    \"black\"\n",
       "                ],\n",
       "                \"margin\": 8,\n",
       "                \"fontSize\": 18,\n",
       "                \"formatter\": \"{d}%\"\n",
       "            },\n",
       "            \"rippleEffect\": {\n",
       "                \"show\": true,\n",
       "                \"brushType\": \"stroke\",\n",
       "                \"scale\": 2.5,\n",
       "                \"period\": 4\n",
       "            }\n",
       "        }\n",
       "    ],\n",
       "    \"legend\": [\n",
       "        {\n",
       "            \"data\": [\n",
       "                \"lowsell_kr\",\n",
       "                \"highsell_kr\",\n",
       "                \"lowbuy_kr\",\n",
       "                \"highbuy_kr\"\n",
       "            ],\n",
       "            \"selected\": {},\n",
       "            \"show\": true,\n",
       "            \"left\": \"20%\",\n",
       "            \"top\": \"middle\",\n",
       "            \"orient\": \"vertical\",\n",
       "            \"padding\": 5,\n",
       "            \"itemGap\": 10,\n",
       "            \"itemWidth\": 25,\n",
       "            \"itemHeight\": 14\n",
       "        }\n",
       "    ],\n",
       "    \"tooltip\": {\n",
       "        \"show\": true,\n",
       "        \"trigger\": \"item\",\n",
       "        \"triggerOn\": \"mousemove|click\",\n",
       "        \"axisPointer\": {\n",
       "            \"type\": \"line\"\n",
       "        },\n",
       "        \"showContent\": true,\n",
       "        \"alwaysShowContent\": false,\n",
       "        \"showDelay\": 0,\n",
       "        \"hideDelay\": 100,\n",
       "        \"textStyle\": {\n",
       "            \"fontSize\": 14\n",
       "        },\n",
       "        \"borderWidth\": 0,\n",
       "        \"padding\": 5\n",
       "    },\n",
       "    \"title\": [\n",
       "        {\n",
       "            \"text\": \"\\ub9e4\\ub3c4/\\ub9e4\\uc218 \\uc131\\ud5a5 \\ube44\\uc728 \\uc2dc\\uac01\\ud654\",\n",
       "            \"padding\": 5,\n",
       "            \"itemGap\": 10\n",
       "        }\n",
       "    ]\n",
       "};\n",
       "                chart_9b6119512ffe41f6b84ade8b7bb5f9ce.setOption(option_9b6119512ffe41f6b84ade8b7bb5f9ce);\n",
       "        });\n",
       "    </script>\n"
      ],
      "text/plain": [
       "<pyecharts.render.display.HTML at 0x7ffcaecd53d0>"
      ]
     },
     "execution_count": 13,
     "metadata": {},
     "output_type": "execute_result"
    }
   ],
   "source": [
    "#연령별 매도/매수 성향 비율 시각화\n",
    "\n",
    "pie1 = (\n",
    "    Pie()\n",
    "    .add(\"\", [list(z) for z in zip(list(cus_info.mean()[a].index), list(cus_info.mean()[a]))], radius=[60, 120])\n",
    "    .set_global_opts(title_opts=opts.TitleOpts(title=\"매도/매수 성향 비율 시각화\"),\n",
    "                    legend_opts=opts.LegendOpts(is_show = True, orient='vertical', pos_left='20%', pos_top ='middle'))\n",
    "    .set_series_opts(label_opts=opts.LabelOpts(color=[\"black\"], formatter=\"{d}%\", font_size = 18))\n",
    "    .set_colors(['#fc6472', '#f4b2a6', '#eccdb3', '#bcefd0', '#a1e8e4', '#23c8b2', '#7f5a7c'])\n",
    ")\n",
    "\n",
    "pie1.render_notebook()"
   ]
  },
  {
   "cell_type": "markdown",
   "metadata": {},
   "source": [
    "매도/매수 성향 비율을 시각화 해보았습니다.\n",
    "\n",
    "따로 자산규모별, 연령별, 투자성향별 비율을 시각화 해보았지만, 차이가 1% 내외로 매우 작았습니다.    \n",
    "투자자들의 거래 행동을 살펴보면, 다음과 같이 정리할 수 있습니다.\n",
    "\n",
    "+ 추격매수\n",
    "    \n",
    "  가격이 내려갈 때 저점이라고 생각해서 매수: 거래 행동의 대다수(65% 이상)을 차지\n",
    "    \n",
    "  가격이 올라갈 때 상승할 것이라고 생각해서 매수: 거래 행동의 20% 이상을 차지\n",
    "    \n",
    "    \n",
    "+ 손절매\n",
    "\n",
    "  가격이 내려갈 때 손해를 방지하기 위해 매도: 거래행동의 약 0.7% 차지\n",
    "  \n",
    "  \n",
    "  \n",
    "\n",
    "+ 익절매\n",
    "\n",
    "  가격이 올라갈 때 차익을 얻기 위해 매도: 거래행동의 약 2% 차지\n",
    "    \n",
    "    \n",
    "이러한 양상은 앞서 언급했었던 손해를 미루고 이익을 추구하는 인간의 기본 심리와도 관련이 있습니다.     \n",
    "또한 매수에 있어서도 오르고 있는 주식을 사기 보다는, 가격이 내려가는 주식을 사려고 합니다.      \n",
    "이는 투자성향이나 자산규모, 연령과 상관없이 비율이 비슷하게 나옵니다."
   ]
  },
  {
   "cell_type": "code",
   "execution_count": 18,
   "metadata": {},
   "outputs": [],
   "source": [
    "cus_info = cus_info.fillna(0)\n",
    "\n",
    "#계좌-상품별 순매수금액 구하기\n",
    "trdkr['net_purchase_kr']=trdkr['buy_amount_kr']-trdkr['sell_amount_kr']\n",
    "\n",
    "#고객별 순매수금액 구하기\n",
    "cus_info['net_purchase_kr']=cus_info['buy_amount_kr']-cus_info['sell_amount_kr']\n",
    "\n",
    "#필요한 coulmn만 추출\n",
    "cus_info = cus_info[['cus_id','age_cat','sex','grade','class','risk', 'ivst', 'home', 'num_act', 'iem_num_kr',\n",
    "                     'lowsell_kr', 'highsell_kr', 'lowbuy_kr', 'highbuy_kr',\n",
    "                     'sell_qty_kr', 'sell_amount_kr', 'buy_qty_kr', 'buy_amount_kr',\n",
    "                     'sell_num_kr', 'buy_num_kr', 'total_num_kr','freq_2019','freq_2020','freq']]"
   ]
  },
  {
   "cell_type": "markdown",
   "metadata": {},
   "source": [
    "여러 주식투자 분석 레포트에서 '순매수금액 및 비중'을 중요한 지표로 활용하는 것을 보았습니다.    \n",
    "그래서 순매수 금액을 추출해 **net_purchase_kr**과 **net_purchase_oss** 변수를 추가했습니다."
   ]
  },
  {
   "cell_type": "code",
   "execution_count": 20,
   "metadata": {},
   "outputs": [],
   "source": [
    "cus_info.to_csv('cus_info.csv')\n",
    "trdkr.to_csv('trdkr.csv')"
   ]
  }
 ],
 "metadata": {
  "kernelspec": {
   "display_name": "Python 3",
   "language": "python",
   "name": "python3"
  },
  "language_info": {
   "codemirror_mode": {
    "name": "ipython",
    "version": 3
   },
   "file_extension": ".py",
   "mimetype": "text/x-python",
   "name": "python",
   "nbconvert_exporter": "python",
   "pygments_lexer": "ipython3",
   "version": "3.8.2"
  }
 },
 "nbformat": 4,
 "nbformat_minor": 4
}
